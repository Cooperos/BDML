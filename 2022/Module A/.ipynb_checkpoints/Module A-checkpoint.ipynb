{
 "cells": [
  {
   "cell_type": "markdown",
   "metadata": {
    "pycharm": {
     "is_executing": true
    }
   },
   "source": [
    "Загрузка предобработка и подготовка данных\n",
    "\n",
    "Загрузка данных\n",
    "1. Конкурсант загрузил данные\n",
    "2. Все данные загружены\n",
    "3. Данные проверены на техническую информацию и при наличии исключена такая информация\n",
    "4. Код загрузки данных представлен\n",
    "5. Код содержит обработку исключений"
   ]
  },
  {
   "cell_type": "code",
   "execution_count": null,
   "metadata": {
    "pycharm": {
     "is_executing": true
    }
   },
   "outputs": [],
   "source": [
    "import pandas as pd\n",
    "import pathlib as Path\n",
    "# Objects\n",
    "path = \"../2022/DataSet/objects.csv\"\n",
    "    \n",
    "dtypes = {'city': 'int32', 'obj_id': 'int32', 'function': 'str', 'square' : 'int32', 'year' : 'float32', 'floor' : 'float32'}\n",
    "usecols = ['city', 'obj_id', 'function', 'square', 'year', 'floor']\n",
    "chunks = pd.read_csv(path, dtype=dtypes, usecols=usecols, chunksize=100000, skiprows=1, na_values=['', 'NA'])\n",
    "data = pd.concat(chunks)\n",
    "data.drop_duplicates(inplace=True)\n",
    "data.reset_index(drop=True, inplace=True)\n",
    "\n",
    "data"
   ]
  },
  {
   "cell_type": "code",
   "execution_count": null,
   "metadata": {},
   "outputs": [],
   "source": []
  }
 ],
 "metadata": {
  "kernelspec": {
   "display_name": "Python 3 (ipykernel)",
   "language": "python",
   "name": "python3"
  },
  "language_info": {
   "codemirror_mode": {
    "name": "ipython",
    "version": 3
   },
   "file_extension": ".py",
   "mimetype": "text/x-python",
   "name": "python",
   "nbconvert_exporter": "python",
   "pygments_lexer": "ipython3",
   "version": "3.9.13"
  }
 },
 "nbformat": 4,
 "nbformat_minor": 1
}
