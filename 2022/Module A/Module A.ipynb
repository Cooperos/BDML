{
 "cells": [
  {
   "cell_type": "markdown",
   "metadata": {
    "pycharm": {
     "is_executing": true
    }
   },
   "source": [
    "Загрузка предобработка и подготовка данных\n",
    "\n",
    "Загрузка данных\n",
    "1. Конкурсант загрузил данные\n",
    "2. Все данные загружены\n",
    "3. Данные проверены на техническую информацию и при наличии исключена такая информация\n",
    "4. Код загрузки данных представлен\n",
    "5. Код содержит обработку исключений"
   ]
  },
  {
   "cell_type": "code",
   "execution_count": 39,
   "metadata": {},
   "outputs": [
    {
     "data": {
      "text/plain": "      city  obj_id                       function  square    year  floor\n0        0       0                      Education    7432  2008.0    NaN\n1        0       1                      Education    2720  2004.0    NaN\n2        0       2                      Education    5376  1991.0    NaN\n3        0       3                      Education   23685  2002.0    NaN\n4        0       4                      Education  116607  1975.0    NaN\n...    ...     ...                            ...     ...     ...    ...\n1444    15    1444  Entertainment/public assembly   19619  1914.0    NaN\n1445    15    1445                      Education    4298     NaN    NaN\n1446    15    1446  Entertainment/public assembly   11265  1997.0    NaN\n1447    15    1447            Lodging/residential   29775  2001.0    NaN\n1448    15    1448                         Office   92271  2001.0    NaN\n\n[1449 rows x 6 columns]",
      "text/html": "<div>\n<style scoped>\n    .dataframe tbody tr th:only-of-type {\n        vertical-align: middle;\n    }\n\n    .dataframe tbody tr th {\n        vertical-align: top;\n    }\n\n    .dataframe thead th {\n        text-align: right;\n    }\n</style>\n<table border=\"1\" class=\"dataframe\">\n  <thead>\n    <tr style=\"text-align: right;\">\n      <th></th>\n      <th>city</th>\n      <th>obj_id</th>\n      <th>function</th>\n      <th>square</th>\n      <th>year</th>\n      <th>floor</th>\n    </tr>\n  </thead>\n  <tbody>\n    <tr>\n      <th>0</th>\n      <td>0</td>\n      <td>0</td>\n      <td>Education</td>\n      <td>7432</td>\n      <td>2008.0</td>\n      <td>NaN</td>\n    </tr>\n    <tr>\n      <th>1</th>\n      <td>0</td>\n      <td>1</td>\n      <td>Education</td>\n      <td>2720</td>\n      <td>2004.0</td>\n      <td>NaN</td>\n    </tr>\n    <tr>\n      <th>2</th>\n      <td>0</td>\n      <td>2</td>\n      <td>Education</td>\n      <td>5376</td>\n      <td>1991.0</td>\n      <td>NaN</td>\n    </tr>\n    <tr>\n      <th>3</th>\n      <td>0</td>\n      <td>3</td>\n      <td>Education</td>\n      <td>23685</td>\n      <td>2002.0</td>\n      <td>NaN</td>\n    </tr>\n    <tr>\n      <th>4</th>\n      <td>0</td>\n      <td>4</td>\n      <td>Education</td>\n      <td>116607</td>\n      <td>1975.0</td>\n      <td>NaN</td>\n    </tr>\n    <tr>\n      <th>...</th>\n      <td>...</td>\n      <td>...</td>\n      <td>...</td>\n      <td>...</td>\n      <td>...</td>\n      <td>...</td>\n    </tr>\n    <tr>\n      <th>1444</th>\n      <td>15</td>\n      <td>1444</td>\n      <td>Entertainment/public assembly</td>\n      <td>19619</td>\n      <td>1914.0</td>\n      <td>NaN</td>\n    </tr>\n    <tr>\n      <th>1445</th>\n      <td>15</td>\n      <td>1445</td>\n      <td>Education</td>\n      <td>4298</td>\n      <td>NaN</td>\n      <td>NaN</td>\n    </tr>\n    <tr>\n      <th>1446</th>\n      <td>15</td>\n      <td>1446</td>\n      <td>Entertainment/public assembly</td>\n      <td>11265</td>\n      <td>1997.0</td>\n      <td>NaN</td>\n    </tr>\n    <tr>\n      <th>1447</th>\n      <td>15</td>\n      <td>1447</td>\n      <td>Lodging/residential</td>\n      <td>29775</td>\n      <td>2001.0</td>\n      <td>NaN</td>\n    </tr>\n    <tr>\n      <th>1448</th>\n      <td>15</td>\n      <td>1448</td>\n      <td>Office</td>\n      <td>92271</td>\n      <td>2001.0</td>\n      <td>NaN</td>\n    </tr>\n  </tbody>\n</table>\n<p>1449 rows × 6 columns</p>\n</div>"
     },
     "execution_count": 39,
     "metadata": {},
     "output_type": "execute_result"
    }
   ],
   "source": [
    "import pandas as pd\n",
    "import pathlib as Path\n",
    "# Objects\n",
    "path = \"../2022/DataSet/objects.csv\"\n",
    "    \n",
    "dtypes = {'city': 'int32', 'obj_id': 'int32', 'function': 'str', 'square' : 'int32', 'year' : 'float32', 'floor' : 'float32'}\n",
    "usecols = ['city', 'obj_id', 'function', 'square', 'year', 'floor']\n",
    "chunks = pd.read_csv(path, dtype=dtypes, usecols=usecols, chunksize=100000, skiprows=1, na_values=['', 'NA'])\n",
    "data = pd.concat(chunks)\n",
    "data.drop_duplicates(inplace=True)\n",
    "data.reset_index(drop=True, inplace=True)\n",
    "\n",
    "data"
   ]
  },
  {
   "cell_type": "code",
   "execution_count": 47,
   "metadata": {},
   "outputs": [
    {
     "data": {
      "text/plain": "          obj_id  counter            datetime\n0           1380        1 2018-01-31 04:00:00\n1           1133        2 2018-06-01 14:00:00\n2            557        0 2018-03-30 05:00:00\n3           1307        0 2018-05-28 21:00:00\n4           1234        1 2018-01-27 21:00:00\n...          ...      ...                 ...\n41697595      82        0 2017-10-24 00:00:00\n41697596     195        0 2017-02-19 20:00:00\n41697597    1325        0 2017-06-09 00:00:00\n41697598     187        3 2018-05-24 16:00:00\n41697599     674        0 2018-10-10 16:00:00\n\n[41697600 rows x 3 columns]",
      "text/html": "<div>\n<style scoped>\n    .dataframe tbody tr th:only-of-type {\n        vertical-align: middle;\n    }\n\n    .dataframe tbody tr th {\n        vertical-align: top;\n    }\n\n    .dataframe thead th {\n        text-align: right;\n    }\n</style>\n<table border=\"1\" class=\"dataframe\">\n  <thead>\n    <tr style=\"text-align: right;\">\n      <th></th>\n      <th>obj_id</th>\n      <th>counter</th>\n      <th>datetime</th>\n    </tr>\n  </thead>\n  <tbody>\n    <tr>\n      <th>0</th>\n      <td>1380</td>\n      <td>1</td>\n      <td>2018-01-31 04:00:00</td>\n    </tr>\n    <tr>\n      <th>1</th>\n      <td>1133</td>\n      <td>2</td>\n      <td>2018-06-01 14:00:00</td>\n    </tr>\n    <tr>\n      <th>2</th>\n      <td>557</td>\n      <td>0</td>\n      <td>2018-03-30 05:00:00</td>\n    </tr>\n    <tr>\n      <th>3</th>\n      <td>1307</td>\n      <td>0</td>\n      <td>2018-05-28 21:00:00</td>\n    </tr>\n    <tr>\n      <th>4</th>\n      <td>1234</td>\n      <td>1</td>\n      <td>2018-01-27 21:00:00</td>\n    </tr>\n    <tr>\n      <th>...</th>\n      <td>...</td>\n      <td>...</td>\n      <td>...</td>\n    </tr>\n    <tr>\n      <th>41697595</th>\n      <td>82</td>\n      <td>0</td>\n      <td>2017-10-24 00:00:00</td>\n    </tr>\n    <tr>\n      <th>41697596</th>\n      <td>195</td>\n      <td>0</td>\n      <td>2017-02-19 20:00:00</td>\n    </tr>\n    <tr>\n      <th>41697597</th>\n      <td>1325</td>\n      <td>0</td>\n      <td>2017-06-09 00:00:00</td>\n    </tr>\n    <tr>\n      <th>41697598</th>\n      <td>187</td>\n      <td>3</td>\n      <td>2018-05-24 16:00:00</td>\n    </tr>\n    <tr>\n      <th>41697599</th>\n      <td>674</td>\n      <td>0</td>\n      <td>2018-10-10 16:00:00</td>\n    </tr>\n  </tbody>\n</table>\n<p>41697600 rows × 3 columns</p>\n</div>"
     },
     "execution_count": 47,
     "metadata": {},
     "output_type": "execute_result"
    }
   ],
   "source": []
  }
 ],
 "metadata": {
  "kernelspec": {
   "display_name": "Python 3 (ipykernel)",
   "language": "python",
   "name": "python3"
  },
  "language_info": {
   "codemirror_mode": {
    "name": "ipython",
    "version": 3
   },
   "file_extension": ".py",
   "mimetype": "text/x-python",
   "name": "python",
   "nbconvert_exporter": "python",
   "pygments_lexer": "ipython3",
   "version": "3.9.13"
  }
 },
 "nbformat": 4,
 "nbformat_minor": 1
}
